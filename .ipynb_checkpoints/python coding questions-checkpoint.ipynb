{
 "cells": [
  {
   "cell_type": "code",
   "execution_count": 84,
   "id": "989f566e-dcd4-422f-831a-b7f9aec71cfb",
   "metadata": {},
   "outputs": [
    {
     "name": "stdout",
     "output_type": "stream",
     "text": [
      "26   26\n"
     ]
    }
   ],
   "source": [
    "#Maximum sum subsequence array, Kdanes algorithm\n",
    "arr=[11,-3,7,-3,-9,4,6,-1,14]\n",
    "\n",
    "current_sum=arr[0]\n",
    "max_sum=float('-inf')\n",
    "\n",
    "for val in range(1,len(arr)):\n",
    "    current_sum=max(arr[val],arr[val]+current_sum)\n",
    "    max_sum=max(max_sum, current_sum)\n",
    "print(max_sum,\" \", current_sum)"
   ]
  },
  {
   "cell_type": "code",
   "execution_count": 97,
   "id": "42b018db-0dad-4a1f-a9d2-51b374e6a086",
   "metadata": {},
   "outputs": [
    {
     "name": "stdout",
     "output_type": "stream",
     "text": [
      "7\n"
     ]
    }
   ],
   "source": [
    "#Given a list of integers from 1 to n with one missing, find the missing number.\n",
    "n=10\n",
    "arr=[1,2,3,4,5,6,8,9,10]\n",
    "\n",
    "total_sum=(n*(n+1))//2\n",
    "\n",
    "arr_sum=0\n",
    "for i in range(len(arr)):\n",
    "    arr_sum+=arr[i]\n",
    "missing_num=total_sum-arr_sum\n",
    "print(missing_num)"
   ]
  },
  {
   "cell_type": "code",
   "execution_count": 85,
   "id": "92a2da78-b3b1-4017-b5a5-883458329de4",
   "metadata": {},
   "outputs": [
    {
     "name": "stdout",
     "output_type": "stream",
     "text": [
      "[[1, 5], [6, 7]]\n"
     ]
    }
   ],
   "source": [
    "# merge interval\n",
    "\n",
    "arr=[[1,4],[3,5],[6,7]]\n",
    "\n",
    "arr.sort(key=lambda x:x[0])\n",
    "merged=[]\n",
    "\n",
    "for val in arr:\n",
    "    if not merged or merged[-1][1]<val[0]:\n",
    "        merged.append(val)\n",
    "    else:\n",
    "        merged[-1][1]=max(merged[-1][1], val[1])\n",
    "print(merged)\n"
   ]
  },
  {
   "cell_type": "code",
   "execution_count": 86,
   "id": "adbdbf48-489d-4c6d-8a04-df7e0b669188",
   "metadata": {},
   "outputs": [
    {
     "name": "stdout",
     "output_type": "stream",
     "text": [
      "4\n",
      "4\n"
     ]
    }
   ],
   "source": [
    "#Find the maximum number of vowels in any substring of size K in a string.\n",
    "string=\"abhiiiii\"\n",
    "k=4\n",
    "\n",
    "count=0\n",
    "vowel=['a','e','i','o','u','A','E','I','O','U']\n",
    "for i in range(k):\n",
    "    if string[i] in vowel:\n",
    "        count+=1\n",
    "max_val=count\n",
    "for i in range(k,len(string)):\n",
    "    if string[i-k] in vowel:\n",
    "        count-=1\n",
    "    if string[i] in vowel:\n",
    "        count+=1\n",
    "    max_val=max(max_val,count)\n",
    "print(count) \n",
    "print(max_val)"
   ]
  },
  {
   "cell_type": "code",
   "execution_count": 87,
   "id": "0eaf15eb-963c-4158-b30f-85987617828f",
   "metadata": {},
   "outputs": [
    {
     "name": "stdout",
     "output_type": "stream",
     "text": [
      "0\n",
      "1\n",
      "1\n",
      "2\n",
      "3\n",
      "5\n",
      "8\n",
      "13\n",
      "21\n",
      "34\n"
     ]
    }
   ],
   "source": [
    "def fib():\n",
    "    a=0\n",
    "    b=1\n",
    "    while True:\n",
    "        yield a\n",
    "        a,b=b,a+b\n",
    "        \n",
    "febonacci=fib()\n",
    "for i in range(10):\n",
    "    print(next(febonacci))"
   ]
  },
  {
   "cell_type": "code",
   "execution_count": 88,
   "id": "7f3a48f1-7c14-4f51-af5d-eb287bc914fd",
   "metadata": {},
   "outputs": [
    {
     "name": "stdout",
     "output_type": "stream",
     "text": [
      "0\n",
      "1\n",
      "1\n",
      "2\n",
      "3\n",
      "5\n",
      "8\n",
      "13\n",
      "21\n",
      "34\n"
     ]
    }
   ],
   "source": [
    "#Fibonacci series using generator function\n",
    "def fibonacci_generator():\n",
    "    a, b = 0, 1\n",
    "    while True:\n",
    "        yield a\n",
    "        a, b = b, a + b\n",
    "\n",
    "# Example usage\n",
    "fib = fibonacci_generator()\n",
    "\n",
    "# Get the first 10 Fibonacci numbers\n",
    "for _ in range(10):\n",
    "    print(next(fib))\n"
   ]
  },
  {
   "cell_type": "code",
   "execution_count": 89,
   "id": "6a98284a-3d82-4ced-a432-37c168e1c104",
   "metadata": {},
   "outputs": [
    {
     "name": "stdout",
     "output_type": "stream",
     "text": [
      "13\n"
     ]
    }
   ],
   "source": [
    "# def fibonacci(n):\n",
    "#     a=0\n",
    "#     b=1\n",
    "    \n",
    "#     for i in range(2,n):\n",
    "#         print(a)\n",
    "#         c=a+b\n",
    "#         a=b\n",
    "#         b=c\n",
    "  \n",
    "# print(fibonacci(10))\n",
    "\n",
    "def fib(n):\n",
    "    if n<=1:\n",
    "        return n\n",
    "    else:\n",
    "        return fib(n-1)+fib(n-2)\n",
    "print(fib(7))\n",
    "        "
   ]
  },
  {
   "cell_type": "code",
   "execution_count": 90,
   "id": "cfc526fb-ab98-40f1-8c78-57d982643620",
   "metadata": {},
   "outputs": [
    {
     "name": "stdout",
     "output_type": "stream",
     "text": [
      "720\n"
     ]
    }
   ],
   "source": [
    "#factorial using function\n",
    "def fact(n):\n",
    "    if n<=1:\n",
    "        return n\n",
    "    else:\n",
    "        return fact(n-1)*n\n",
    "print(fact(6))"
   ]
  },
  {
   "cell_type": "code",
   "execution_count": 101,
   "id": "39a4bc52-025d-499d-a09d-0055e7dd61d1",
   "metadata": {},
   "outputs": [
    {
     "name": "stdout",
     "output_type": "stream",
     "text": [
      "kehsihba\n"
     ]
    }
   ],
   "source": [
    "# Write a function to reverse a string without using the reverse() function.\n",
    "\n",
    "string='abhishek'\n",
    "s=\"\"\n",
    "# for i in range(1,len(string)+1):\n",
    "#     s+=string[-i]\n",
    "# # print(s)\n",
    "s=string[::-1]\n",
    "print(s)\n",
    "\n"
   ]
  },
  {
   "cell_type": "code",
   "execution_count": 91,
   "id": "2a1d1579-c32d-4383-9822-ec4f205c3ee4",
   "metadata": {},
   "outputs": [
    {
     "name": "stdout",
     "output_type": "stream",
     "text": [
      "1\n",
      "2\n",
      "6\n",
      "24\n",
      "120\n"
     ]
    }
   ],
   "source": [
    "#Factorial using generator function\n",
    "def factorial_generator(n):\n",
    "    result = 1\n",
    "    for i in range(1, n + 1):\n",
    "        result *= i\n",
    "        yield result\n",
    "\n",
    "# Example usage: Get the factorial of numbers from 1 to 5\n",
    "n = 5\n",
    "for fact in factorial_generator(n):\n",
    "    print(fact)\n"
   ]
  },
  {
   "cell_type": "code",
   "execution_count": 106,
   "id": "a6c5b25d-075f-41bc-bd09-b3e9f4e0c21e",
   "metadata": {},
   "outputs": [
    {
     "name": "stdout",
     "output_type": "stream",
     "text": [
      "Not anagram\n"
     ]
    }
   ],
   "source": [
    "# Write a function that checks if two strings are anagrams of each other.\n",
    "string1=\"apple\"\n",
    "string2=\"leppqa\"\n",
    "if sorted(string1)==sorted(string2):\n",
    "    print(\"Are Anagram\")\n",
    "else:\n",
    "    print(\"Not anagram\")\n",
    "    "
   ]
  },
  {
   "cell_type": "code",
   "execution_count": 92,
   "id": "6755ecfe-9c7c-496e-9310-0e7d99d1f77a",
   "metadata": {},
   "outputs": [
    {
     "name": "stdout",
     "output_type": "stream",
     "text": [
      "Trxn started\n",
      "This is original function:\n"
     ]
    },
    {
     "data": {
      "text/plain": [
       "15"
      ]
     },
     "execution_count": 92,
     "metadata": {},
     "output_type": "execute_result"
    }
   ],
   "source": [
    "#Decorator\n",
    "def my_decorator_func(original_func):\n",
    "    def inner_wrapper_func(*args,**kwargs):\n",
    "        print(\"Trxn started\")\n",
    "        result=original_func(*args,**kwargs)\n",
    "        return result\n",
    "    return inner_wrapper_func\n",
    "\n",
    "@my_decorator_func\n",
    "def original_func(a,b):\n",
    "    print(\"This is original function:\")\n",
    "    return a+b\n",
    "    \n",
    "original_func(5,10)"
   ]
  },
  {
   "cell_type": "code",
   "execution_count": null,
   "id": "3cb0884c-0580-4e2c-8bbf-53e7730fc6d7",
   "metadata": {},
   "outputs": [],
   "source": [
    "#Write a function to find the longest substring without repeating characters in a given string.\n"
   ]
  },
  {
   "cell_type": "code",
   "execution_count": 110,
   "id": "e7c056e6-e6d1-473c-9153-c6fdd2cae168",
   "metadata": {},
   "outputs": [
    {
     "name": "stdout",
     "output_type": "stream",
     "text": [
      "i\n"
     ]
    }
   ],
   "source": [
    "# Find the first non-repeating character in a string\n",
    "\n",
    "string=\"abhisbhak\"\n",
    "dic={}\n",
    "for char in string:\n",
    "    if char in dic:\n",
    "        dic[char]+=1\n",
    "    else:\n",
    "        dic[char]=1\n",
    "for key, val in dic.items():\n",
    "    if val==1:\n",
    "        print(key)\n",
    "        break\n",
    "        "
   ]
  },
  {
   "cell_type": "code",
   "execution_count": 112,
   "id": "08fc9471-fd8e-479e-91d3-5367739a75a9",
   "metadata": {},
   "outputs": [
    {
     "name": "stdout",
     "output_type": "stream",
     "text": [
      "Palindrome\n"
     ]
    }
   ],
   "source": [
    "# Check if a number is a palindrome\n",
    "num=121\n",
    "num1=str(num)\n",
    "num2=num1[::-1]\n",
    "if num2==num1:\n",
    "    print(\"Palindrome\")\n",
    "else:\n",
    "    print(\"not palindrome\")"
   ]
  },
  {
   "cell_type": "code",
   "execution_count": 132,
   "id": "a65aea8d-febe-4601-9232-af9adb482a82",
   "metadata": {},
   "outputs": [
    {
     "name": "stdout",
     "output_type": "stream",
     "text": [
      "[1, 2, 3, 4, 5, 6, 7, 8, 9]\n"
     ]
    }
   ],
   "source": [
    "# Merge two sorted lists\n",
    "list1=[1,4,5,7,9]\n",
    "list2=[2,3,6,8]\n",
    "\n",
    "l,r=0,0\n",
    "res=[]\n",
    "while l<len(list1) and r<len(list2):\n",
    "    if list1[l]<list2[r]:\n",
    "        res.append(list1[l])\n",
    "        l+=1\n",
    "    else:\n",
    "        res.append(list2[r])\n",
    "        r+=1\n",
    "res.extend(list1[l:])\n",
    "res.extend(list2[r:])\n",
    "print(res)\n",
    "        "
   ]
  },
  {
   "cell_type": "code",
   "execution_count": 134,
   "id": "d828a609-078a-4744-91d9-6b49d20589e7",
   "metadata": {},
   "outputs": [
    {
     "name": "stdout",
     "output_type": "stream",
     "text": [
      "90\n"
     ]
    }
   ],
   "source": [
    "# Find the maximum product of two integers in an array\n",
    "arr=[2,4,7,1,9,5,1,10]\n",
    "l=0\n",
    "r=len(arr)-1\n",
    "product=1\n",
    "max_product=0\n",
    "while l<r:\n",
    "    product=arr[l]*arr[r]\n",
    "    max_product=max(max_product,product)\n",
    "    if arr[l]>arr[r]:\n",
    "        r-=1\n",
    "    else:\n",
    "        l+=1\n",
    "print(max_product)"
   ]
  },
  {
   "cell_type": "code",
   "execution_count": 141,
   "id": "69929a15-c94a-47af-96d1-140b9c8ea97b",
   "metadata": {},
   "outputs": [
    {
     "name": "stdout",
     "output_type": "stream",
     "text": [
      "{1, 2, 6, 7, 8}\n"
     ]
    }
   ],
   "source": [
    "# Find the common elements in two lists\n",
    "list1=[1,2,4,8,6,8,6,7,8,0,1]\n",
    "list2=[2,3,6,9,8,8,7,1]\n",
    "# common=[]\n",
    "# for val in list1:\n",
    "#     if val in list2:\n",
    "#         common.append(val)\n",
    "\n",
    "# print(common)\n",
    "print(set(list1) & set(list2))\n"
   ]
  },
  {
   "cell_type": "code",
   "execution_count": null,
   "id": "35c0b111-3f68-4f5a-8d1d-bea23f8d744f",
   "metadata": {},
   "outputs": [],
   "source": [
    "# Find all permutations of a string\n"
   ]
  }
 ],
 "metadata": {
  "kernelspec": {
   "display_name": "Python 3 (ipykernel)",
   "language": "python",
   "name": "python3"
  },
  "language_info": {
   "codemirror_mode": {
    "name": "ipython",
    "version": 3
   },
   "file_extension": ".py",
   "mimetype": "text/x-python",
   "name": "python",
   "nbconvert_exporter": "python",
   "pygments_lexer": "ipython3",
   "version": "3.12.7"
  }
 },
 "nbformat": 4,
 "nbformat_minor": 5
}
